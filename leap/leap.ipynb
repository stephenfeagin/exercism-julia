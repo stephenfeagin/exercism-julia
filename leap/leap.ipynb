{
 "cells": [
  {
   "cell_type": "markdown",
   "metadata": {},
   "source": [
    "# Leap\n",
    "\n",
    "Given a year, report if it is a leap year.\n",
    "\n",
    "The tricky thing here is that a leap year in the Gregorian calendar occurs:\n",
    "\n",
    "```text\n",
    "on every year that is evenly divisible by 4\n",
    "  except every year that is evenly divisible by 100\n",
    "    unless the year is also evenly divisible by 400\n",
    "```\n",
    "\n",
    "For example, 1997 is not a leap year, but 1996 is.  1900 is not a leap\n",
    "year, but 2000 is.\n",
    "\n",
    "If your language provides a method in the standard library that does\n",
    "this look-up, pretend it doesn't exist and implement it yourself.\n",
    "\n",
    "## Notes\n",
    "\n",
    "Though our exercise adopts some very simple rules, there is more to\n",
    "learn!\n",
    "\n",
    "For a delightful, four minute explanation of the whole leap year\n",
    "phenomenon, go watch [this youtube video][video].\n",
    "\n",
    "[video]: http://www.youtube.com/watch?v=xX96xng7sAE\n",
    "## Source\n",
    "\n",
    "JavaRanch Cattle Drive, exercise 3 [http://www.javaranch.com/leap.jsp](http://www.javaranch.com/leap.jsp)\n",
    "\n",
    "\n",
    "## Version compatibility\n",
    "Julia 1.0 and 0.7 are the only supported Julia versions on Exercism.\n",
    "For the most part, the test suites and solutions should be compatible to 0.6, but you will have to change `using Test` back to `using Base.Test` in the `runtests.jl` file.\n",
    "Note that 0.7 and 1.0 are almost identical, except for deprecation warnings, which have all been removed in 1.0.\n",
    "\n",
    "## Submitting Incomplete Solutions\n",
    "It's possible to submit an incomplete solution so you can see how others have completed the exercise.\n"
   ]
  },
  {
   "cell_type": "code",
   "execution_count": null,
   "metadata": {},
   "outputs": [],
   "source": [
    "# submit\n",
    "function is_leap_year(year::Int)\n",
    "\n",
    "end\n",
    "\n"
   ]
  },
  {
   "cell_type": "code",
   "execution_count": null,
   "metadata": {},
   "outputs": [],
   "source": [
    "using Test\n",
    "\n",
    "# include(\"leap.jl\")\n",
    "\n",
    "@testset \"Year not divisible by 4: common year\" begin\n",
    "    @test !is_leap_year(2015)\n",
    "end\n",
    "\n",
    "@testset \"Year divisible by 4, not divisible by 100: leap year\" begin\n",
    "    @test is_leap_year(2016)\n",
    "end\n",
    "\n",
    "@testset \"Year divisible by 100, not divisible by 400: common year\" begin\n",
    "    @test !is_leap_year(2100)\n",
    "end\n",
    "\n",
    "@testset \"Year divisible by 400: leap year\" begin\n",
    "    @test is_leap_year(2000)\n",
    "end\n"
   ]
  },
  {
   "cell_type": "code",
   "execution_count": null,
   "metadata": {},
   "outputs": [],
   "source": [
    "# To submit your exercise, you need to save your solution in a file called leap.jl before using the CLI.\n",
    "# You can either create it manually or use the following functions, which will automatically\n",
    "# save every notebook cell starting with `# submit` in that file.\n",
    "\n",
    "# Pkg.add(\"Exercism\")\n",
    "# using Exercism\n",
    "# Exercism.create_submission(\"leap\")\n"
   ]
  }
 ],
 "metadata": {},
 "nbformat": 4,
 "nbformat_minor": 2
}
